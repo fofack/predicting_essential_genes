{
 "cells": [
  {
   "cell_type": "code",
   "execution_count": 25,
   "id": "db6e1677",
   "metadata": {},
   "outputs": [],
   "source": [
    "from Features import Feature\n",
    "import sys\n",
    "from Utils import Util\n",
    "import os"
   ]
  },
  {
   "cell_type": "code",
   "execution_count": 26,
   "id": "629ba91b-15f8-4110-849e-d7eabbcd75e5",
   "metadata": {},
   "outputs": [],
   "source": [
    "organisms_path= \"organisms/\"\n",
    "epath_path = \"epathFile/\""
   ]
  },
  {
   "cell_type": "code",
   "execution_count": 27,
   "id": "16184604",
   "metadata": {},
   "outputs": [
    {
     "data": {
      "text/plain": [
       "1668"
      ]
     },
     "execution_count": 27,
     "metadata": {},
     "output_type": "execute_result"
    }
   ],
   "source": [
    "organisms = Util.find_dir(Util(), organisms_path)\n",
    "epath_datas = Util.find_dir(Util(),epath_path)"
   ]
  },
  {
   "cell_type": "code",
   "execution_count": 28,
   "id": "c40be7ce",
   "metadata": {},
   "outputs": [],
   "source": [
    "if os.path.exists(organisms_path+'.ipynb_checkpoints'):\n",
    "    os.system('rm -r {}'.format(organisms_path+'.ipynb_checkpoints'))\n",
    "for o in range(len(organisms)):\n",
    "    print(organisms[o])\n",
    "    if organisms[o] != '.ipynb_checkpoints':\n",
    "        Feature.main(Feature(), organisms_path+'/'+organisms[o], 'sequences_clean', organisms[0])\n",
    "orgData = Util.find_dir(Util(), 'results')\n",
    "if not os.path.exists('datasets'):\n",
    "    os.mkdir('datasets')\n",
    "    for i in range(len(epath_datas)):\n",
    "        for j in range(len(orgData)):\n",
    "            if (str(orgData[j]) == epath_datas[i].split(\"_\")[0]):\n",
    "                if not os.path.exists('datasets/'+orgData[j]):\n",
    "                    os.mkdir('datasets/'+orgData[j])\n",
    "                    data_csv = Util.find_dir(Util(), 'results/'+orgData[j])\n",
    "                    for s in range(len(data_csv)):\n",
    "                        group_name = data_csv[s].split(\"_\")[2].split(\".\")[0]\n",
    "                        Util.labeling(\n",
    "                            'epathFile/'+epath_datas[i], 'results/'+orgData[j]+'/'+data_csv[s], group_name, orgData[j])\n",
    "\n"
   ]
  },
  {
   "cell_type": "code",
   "execution_count": null,
   "id": "1c7a31d2",
   "metadata": {},
   "outputs": [],
   "source": []
  }
 ],
 "metadata": {
  "kernelspec": {
   "display_name": "Python 3 (ipykernel)",
   "language": "python",
   "name": "python3"
  },
  "language_info": {
   "codemirror_mode": {
    "name": "ipython",
    "version": 3
   },
   "file_extension": ".py",
   "mimetype": "text/x-python",
   "name": "python",
   "nbconvert_exporter": "python",
   "pygments_lexer": "ipython3",
   "version": "3.9.12"
  }
 },
 "nbformat": 4,
 "nbformat_minor": 5
}
